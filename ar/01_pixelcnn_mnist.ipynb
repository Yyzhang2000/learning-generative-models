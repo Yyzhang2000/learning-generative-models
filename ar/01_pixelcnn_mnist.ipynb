{
  "cells": [
    {
      "cell_type": "markdown",
      "metadata": {
        "id": "view-in-github",
        "colab_type": "text"
      },
      "source": [
        "<a href=\"https://colab.research.google.com/github/Yyzhang2000/learning-generative-models/blob/main/ar/01_pixelcnn_mnist.ipynb\" target=\"_parent\"><img src=\"https://colab.research.google.com/assets/colab-badge.svg\" alt=\"Open In Colab\"/></a>"
      ]
    },
    {
      "cell_type": "code",
      "execution_count": null,
      "metadata": {
        "id": "BbM75eWVkfOJ"
      },
      "outputs": [],
      "source": [
        "import os\n",
        "import math\n",
        "import numpy as np\n",
        "\n",
        "## Imports for plotting\n",
        "import matplotlib.pyplot as plt\n",
        "\n",
        "## Progress bar\n",
        "from tqdm.notebook import tqdm\n",
        "\n",
        "import torch\n",
        "import torch.nn as nn\n",
        "import torch.nn.functional as F\n",
        "import torch.utils.data as data\n",
        "import torch.optim as optim\n",
        "\n",
        "# Torchvision\n",
        "import torchvision\n",
        "from torchvision.datasets import MNIST\n",
        "from torchvision import transforms"
      ]
    },
    {
      "cell_type": "code",
      "execution_count": null,
      "metadata": {
        "id": "znaMkDCJkfOM",
        "outputId": "fdde1986-a359-42f0-97fc-bd2cf415b064"
      },
      "outputs": [
        {
          "name": "stdout",
          "output_type": "stream",
          "text": [
            "MPS is available\n"
          ]
        },
        {
          "data": {
            "text/plain": [
              "device(type='mps')"
            ]
          },
          "execution_count": 9,
          "metadata": {},
          "output_type": "execute_result"
        }
      ],
      "source": [
        "DATASET_PATH = \"./data\"\n",
        "CHECKPOINT_PATH = \"./saved_models\"\n",
        "\n",
        "\n",
        "if torch.cuda.is_available():\n",
        "    print(\"CUDA is available\")\n",
        "    device = torch.device(\"cuda:0\")\n",
        "elif torch.backends.mps.is_available():\n",
        "    print(\"MPS is available\")\n",
        "    device = torch.device(\"mps\")\n",
        "else:\n",
        "    print(\"Using CPU\")\n",
        "    device = torch.device(\"cpu\")\n",
        "device"
      ]
    },
    {
      "cell_type": "code",
      "execution_count": null,
      "metadata": {
        "id": "V2wFgvq9kfON"
      },
      "outputs": [],
      "source": [
        "def discretize(sample):\n",
        "    return (sample * 255).to(torch.long)"
      ]
    },
    {
      "cell_type": "code",
      "execution_count": null,
      "metadata": {
        "id": "jFpWX7O7kfOO",
        "outputId": "71735a0c-e1bc-447b-fcd8-0228c8c87ff4"
      },
      "outputs": [
        {
          "name": "stdout",
          "output_type": "stream",
          "text": [
            "Downloading http://yann.lecun.com/exdb/mnist/train-images-idx3-ubyte.gz\n",
            "Failed to download (trying next):\n",
            "HTTP Error 404: Not Found\n",
            "\n",
            "Downloading https://ossci-datasets.s3.amazonaws.com/mnist/train-images-idx3-ubyte.gz\n",
            "Downloading https://ossci-datasets.s3.amazonaws.com/mnist/train-images-idx3-ubyte.gz to ./data/MNIST/raw/train-images-idx3-ubyte.gz\n"
          ]
        },
        {
          "name": "stderr",
          "output_type": "stream",
          "text": [
            "100%|██████████| 9.91M/9.91M [00:52<00:00, 188kB/s] \n"
          ]
        },
        {
          "name": "stdout",
          "output_type": "stream",
          "text": [
            "Extracting ./data/MNIST/raw/train-images-idx3-ubyte.gz to ./data/MNIST/raw\n",
            "\n",
            "Downloading http://yann.lecun.com/exdb/mnist/train-labels-idx1-ubyte.gz\n",
            "Failed to download (trying next):\n",
            "HTTP Error 404: Not Found\n",
            "\n",
            "Downloading https://ossci-datasets.s3.amazonaws.com/mnist/train-labels-idx1-ubyte.gz\n",
            "Downloading https://ossci-datasets.s3.amazonaws.com/mnist/train-labels-idx1-ubyte.gz to ./data/MNIST/raw/train-labels-idx1-ubyte.gz\n"
          ]
        },
        {
          "name": "stderr",
          "output_type": "stream",
          "text": [
            "100%|██████████| 28.9k/28.9k [00:00<00:00, 120kB/s]\n"
          ]
        },
        {
          "name": "stdout",
          "output_type": "stream",
          "text": [
            "Extracting ./data/MNIST/raw/train-labels-idx1-ubyte.gz to ./data/MNIST/raw\n",
            "\n",
            "Downloading http://yann.lecun.com/exdb/mnist/t10k-images-idx3-ubyte.gz\n",
            "Failed to download (trying next):\n",
            "HTTP Error 404: Not Found\n",
            "\n",
            "Downloading https://ossci-datasets.s3.amazonaws.com/mnist/t10k-images-idx3-ubyte.gz\n",
            "Downloading https://ossci-datasets.s3.amazonaws.com/mnist/t10k-images-idx3-ubyte.gz to ./data/MNIST/raw/t10k-images-idx3-ubyte.gz\n"
          ]
        },
        {
          "name": "stderr",
          "output_type": "stream",
          "text": [
            "100%|██████████| 1.65M/1.65M [00:01<00:00, 1.13MB/s]\n"
          ]
        },
        {
          "name": "stdout",
          "output_type": "stream",
          "text": [
            "Extracting ./data/MNIST/raw/t10k-images-idx3-ubyte.gz to ./data/MNIST/raw\n",
            "\n",
            "Downloading http://yann.lecun.com/exdb/mnist/t10k-labels-idx1-ubyte.gz\n",
            "Failed to download (trying next):\n",
            "HTTP Error 404: Not Found\n",
            "\n",
            "Downloading https://ossci-datasets.s3.amazonaws.com/mnist/t10k-labels-idx1-ubyte.gz\n",
            "Downloading https://ossci-datasets.s3.amazonaws.com/mnist/t10k-labels-idx1-ubyte.gz to ./data/MNIST/raw/t10k-labels-idx1-ubyte.gz\n"
          ]
        },
        {
          "name": "stderr",
          "output_type": "stream",
          "text": [
            "100%|██████████| 4.54k/4.54k [00:00<00:00, 4.50MB/s]"
          ]
        },
        {
          "name": "stdout",
          "output_type": "stream",
          "text": [
            "Extracting ./data/MNIST/raw/t10k-labels-idx1-ubyte.gz to ./data/MNIST/raw\n",
            "\n"
          ]
        },
        {
          "name": "stderr",
          "output_type": "stream",
          "text": [
            "\n"
          ]
        }
      ],
      "source": [
        "transform = transforms.Compose([transforms.ToTensor(), discretize])\n",
        "train_dataset = MNIST(root=DATASET_PATH, train=True, download=True, transform=transform)\n",
        "train_set, val_set = torch.utils.data.random_split(train_dataset, [50000, 10000])\n",
        "\n",
        "train_loader = data.DataLoader(\n",
        "    train_set,\n",
        "    batch_size=128,\n",
        "    shuffle=True,\n",
        "    num_workers=4,\n",
        "    drop_last=True,\n",
        "    pin_memory=True,\n",
        ")\n",
        "val_loader = data.DataLoader(\n",
        "    val_set,\n",
        "    batch_size=128,\n",
        "    shuffle=False,\n",
        "    num_workers=4,\n",
        "    drop_last=False,\n",
        "    pin_memory=True,\n",
        ")"
      ]
    },
    {
      "cell_type": "code",
      "execution_count": null,
      "metadata": {
        "id": "5R_Tm_NskfOO",
        "outputId": "3dda4224-7b1a-47d6-eb9d-56844f65eca1"
      },
      "outputs": [
        {
          "data": {
            "image/png": "[encoded data removed]",
            "text/plain": [
              "<Figure size 600x300 with 1 Axes>"
            ]
          },
          "metadata": {},
          "output_type": "display_data"
        }
      ],
      "source": [
        "def show_imgs(imgs):\n",
        "    num_imgs = imgs.shape[0] if isinstance(imgs, torch.Tensor) else len(imgs)\n",
        "    nrow = min(num_imgs, 4)\n",
        "    ncol = int(math.ceil(num_imgs / nrow))\n",
        "    imgs = torchvision.utils.make_grid(imgs, nrow=nrow, pad_value=128)\n",
        "    imgs = imgs.clamp(min=0, max=255)\n",
        "    np_imgs = imgs.cpu().numpy()\n",
        "    plt.figure(figsize=(1.5 * nrow, 1.5 * ncol))\n",
        "    plt.imshow(np.transpose(np_imgs, (1, 2, 0)), interpolation=\"nearest\")\n",
        "    plt.axis(\"off\")\n",
        "    plt.show()\n",
        "    plt.close()\n",
        "\n",
        "\n",
        "show_imgs([train_set[i][0] for i in range(8)])"
      ]
    },
    {
      "cell_type": "code",
      "execution_count": null,
      "metadata": {
        "id": "TbA16_UbkfOO"
      },
      "outputs": [],
      "source": [
        "class MaskedConvolution(nn.Module):\n",
        "    def __init__(self, c_in, c_out, mask, **kwargs):\n",
        "        super().__init__()\n",
        "\n",
        "        kernel_size = (mask.shape[0], mask.shape[1])\n",
        "        dilation = 1 if \"dilation\" not in kwargs else kwargs[\"dilation\"]\n",
        "\n",
        "        padding = tuple([dilation * (kernel_size[i] - 1) // 2 for i in range(2)])\n",
        "\n",
        "        # Actual convolution\n",
        "        self.conv = nn.Conv2d(c_in, c_out, kernel_size, padding=padding, **kwargs)\n",
        "\n",
        "        self.register_buffer(\"mask\", mask[None, None])\n",
        "\n",
        "    def forward(self, x):\n",
        "        self.conv.weight.data *= self.mask\n",
        "        return self.conv(x)\n",
        "\n",
        "\n",
        "class VerticalStackConvolution(MaskedConvolution):\n",
        "\n",
        "    def __init__(self, c_in, c_out, kernel_size=3, mask_center=False, **kwargs):\n",
        "        mask = torch.ones(kernel_size, kernel_size)\n",
        "        mask[kernel_size // 2 + 1 :, :] = 0\n",
        "\n",
        "        if mask_center:\n",
        "            mask[kernel_size // 2, :] = 0\n",
        "\n",
        "        super().__init__(c_in, c_out, mask, **kwargs)\n",
        "\n",
        "\n",
        "class HorizontalStackConvolution(MaskedConvolution):\n",
        "\n",
        "    def __init__(self, c_in, c_out, kernel_size=3, mask_center=False, **kwargs):\n",
        "        mask = torch.ones(1, kernel_size)\n",
        "        mask[0, kernel_size // 2 + 1 :] = 0\n",
        "\n",
        "        if mask_center:\n",
        "            mask[0, kernel_size // 2] = 0\n",
        "\n",
        "        super().__init__(c_in, c_out, mask, **kwargs)"
      ]
    },
    {
      "cell_type": "code",
      "execution_count": null,
      "metadata": {
        "id": "5AQYLBP0kfOP",
        "outputId": "c8f88e0d-88fb-4972-a85c-4316d9912ec1"
      },
      "outputs": [
        {
          "data": {
            "text/plain": [
              "tensor([[[[0., 0., 0., 0., 0., 0., 0., 0., 0., 0., 0.],\n",
              "          [0., 0., 0., 0., 0., 0., 0., 0., 0., 0., 0.],\n",
              "          [0., 0., 0., 0., 0., 0., 0., 0., 0., 0., 0.],\n",
              "          [0., 0., 0., 0., 0., 0., 0., 0., 0., 0., 0.],\n",
              "          [0., 0., 0., 0., 0., 0., 0., 0., 0., 0., 0.],\n",
              "          [0., 0., 0., 0., 0., 0., 0., 0., 0., 0., 0.],\n",
              "          [0., 0., 0., 0., 0., 0., 0., 0., 0., 0., 0.],\n",
              "          [0., 0., 0., 0., 0., 0., 0., 0., 0., 0., 0.],\n",
              "          [0., 0., 0., 0., 0., 0., 0., 0., 0., 0., 0.],\n",
              "          [0., 0., 0., 0., 0., 0., 0., 0., 0., 0., 0.],\n",
              "          [0., 0., 0., 0., 0., 0., 0., 0., 0., 0., 0.]]]], requires_grad=True)"
            ]
          },
          "execution_count": 14,
          "metadata": {},
          "output_type": "execute_result"
        }
      ],
      "source": [
        "inp_img = torch.zeros(1, 1, 11, 11)\n",
        "inp_img.requires_grad_()"
      ]
    },
    {
      "cell_type": "code",
      "execution_count": null,
      "metadata": {
        "id": "JTgWkKmYkfOP"
      },
      "outputs": [],
      "source": [
        "def show_center_recep_field(img, out):\n",
        "    # Determine gradients\n",
        "    loss = out[\n",
        "        0, :, img.shape[2] // 2, img.shape[3] // 2\n",
        "    ].sum()  # L1 loss for simplicity\n",
        "    loss.backward(\n",
        "        retain_graph=True\n",
        "    )  # Retain graph as we want to stack multiple layers and show the receptive field of all of them\n",
        "    img_grads = img.grad.abs()\n",
        "    img.grad.fill_(0)  # Reset grads\n",
        "\n",
        "    # Plot receptive field\n",
        "    img = img_grads.squeeze().cpu().numpy()\n",
        "    fig, ax = plt.subplots(1, 2)\n",
        "    pos = ax[0].imshow(img)\n",
        "    ax[1].imshow(img > 0)\n",
        "    # Mark the center pixel in red if it doesn't have any gradients (should be the case for standard autoregressive models)\n",
        "    show_center = img[img.shape[0] // 2, img.shape[1] // 2] == 0\n",
        "    if show_center:\n",
        "        center_pixel = np.zeros(img.shape + (4,))\n",
        "        center_pixel[center_pixel.shape[0] // 2, center_pixel.shape[1] // 2, :] = (\n",
        "            np.array([1.0, 0.0, 0.0, 1.0])\n",
        "        )\n",
        "    for i in range(2):\n",
        "        ax[i].axis(\"off\")\n",
        "        if show_center:\n",
        "            ax[i].imshow(center_pixel)\n",
        "    ax[0].set_title(\"Weighted receptive field\")\n",
        "    ax[1].set_title(\"Binary receptive field\")\n",
        "    plt.show()\n",
        "    plt.close()"
      ]
    },
    {
      "cell_type": "code",
      "execution_count": null,
      "metadata": {
        "id": "Y3_SUBRpkfOP",
        "outputId": "4f17a006-cec5-402f-d2c0-11877c6b81d9"
      },
      "outputs": [
        {
          "data": {
            "image/png": "[encoded data removed]",
            "text/plain": [
              "<Figure size 640x480 with 2 Axes>"
            ]
          },
          "metadata": {},
          "output_type": "display_data"
        }
      ],
      "source": [
        "show_center_recep_field(inp_img, inp_img)"
      ]
    },
    {
      "cell_type": "code",
      "execution_count": null,
      "metadata": {
        "id": "abHs_nMnkfOQ"
      },
      "outputs": [],
      "source": [
        "class GatedMaskedConv(nn.Module):\n",
        "    def __init__(self, c_in, **kwargs):\n",
        "        super().__init__()\n",
        "\n",
        "        self.conv_vert = VerticalStackConvolution(c_in, c_in * 2, **kwargs)\n",
        "        self.conv_horiz = HorizontalStackConvolution(c_in, c_in * 2, **kwargs)\n",
        "        self.conv_vert_to_horiz = nn.Conv2d(\n",
        "            2 * c_in, 2 * c_in, kernel_size=1, padding=0\n",
        "        )\n",
        "        self.conv_horiz_1x1 = nn.Conv2d(c_in, c_in, kernel_size=1, padding=0)\n",
        "\n",
        "    def forward(self, v_stack, h_stack):\n",
        "        v_stack_feat = self.conv_vert(v_stack)\n",
        "        v_val, v_gate = v_stack_feat.chunk(2, dim=1)\n",
        "        v_stack_out = torch.tanh(v_val) * torch.sigmoid(v_gate)\n",
        "\n",
        "        # Horizontal stack (right)\n",
        "        h_stack_feat = self.conv_horiz(h_stack)\n",
        "        h_stack_feat = h_stack_feat + self.conv_vert_to_horiz(v_stack_feat)\n",
        "        h_val, h_gate = h_stack_feat.chunk(2, dim=1)\n",
        "        h_stack_feat = torch.tanh(h_val) * torch.sigmoid(h_gate)\n",
        "        h_stack_out = self.conv_horiz_1x1(h_stack_feat)\n",
        "        h_stack_out = h_stack_out + h_stack\n",
        "\n",
        "        return v_stack_out, h_stack_out"
      ]
    },
    {
      "cell_type": "code",
      "execution_count": null,
      "metadata": {
        "id": "olumQKEbkfOQ"
      },
      "outputs": [],
      "source": [
        "class PixelCNN(nn.Module):\n",
        "    def __init__(self, c_in, c_hidden):\n",
        "        super().__init__()\n",
        "        self.conv_vstack = VerticalStackConvolution(c_in, c_hidden, mask_center=True)\n",
        "        self.conv_hstack = HorizontalStackConvolution(c_in, c_hidden, mask_center=True)\n",
        "        # Convolution block of PixelCNN. We use dilation instead of downscaling\n",
        "        self.conv_layers = nn.ModuleList(\n",
        "            [\n",
        "                GatedMaskedConv(c_hidden),\n",
        "                GatedMaskedConv(c_hidden, dilation=2),\n",
        "                GatedMaskedConv(c_hidden),\n",
        "                GatedMaskedConv(c_hidden, dilation=4),\n",
        "                GatedMaskedConv(c_hidden),\n",
        "                GatedMaskedConv(c_hidden, dilation=2),\n",
        "                GatedMaskedConv(c_hidden),\n",
        "            ]\n",
        "        )\n",
        "        # Output classification convolution (1x1)\n",
        "        self.conv_out = nn.Conv2d(c_hidden, c_in * 256, kernel_size=1, padding=0)\n",
        "\n",
        "    def forward(self, x):\n",
        "        x = (x.float() / 255.0) * 2 - 1\n",
        "\n",
        "        v_stack = self.conv_vstack(x)\n",
        "        h_stack = self.conv_hstack(x)\n",
        "\n",
        "        for conv in self.conv_layers:\n",
        "            v_stack, h_stack = conv(v_stack, h_stack)\n",
        "\n",
        "        # Final output\n",
        "        out = self.conv_out(F.elu(h_stack))\n",
        "\n",
        "        out = out.reshape(\n",
        "            out.shape[0], 256, out.shape[1] // 256, out.shape[2], out.shape[3]\n",
        "        )\n",
        "        return out"
      ]
    },
    {
      "cell_type": "code",
      "execution_count": null,
      "metadata": {
        "id": "y4E1QI8SkfOQ"
      },
      "outputs": [],
      "source": [
        "def calc_likelihood(model, x):\n",
        "    pred = model(x)\n",
        "    nll = F.cross_entropy(pred, x, reduction=\"none\")\n",
        "    bpd = nll.mean(dim=[1, 2, 3]) * np.log2(np.exp(1))\n",
        "    return bpd.mean().item()"
      ]
    },
    {
      "cell_type": "code",
      "execution_count": null,
      "metadata": {
        "id": "wKoJYwgVkfOQ"
      },
      "outputs": [],
      "source": [
        "model = PixelCNN(1, 64).to(device)\n",
        "optimizer = optim.Adam(model.parameters(), lr=1e-3)\n",
        "scheduler = optim.lr_scheduler.StepLR(optimizer, 1, gamma=0.99)"
      ]
    },
    {
      "cell_type": "code",
      "execution_count": null,
      "metadata": {
        "id": "erF2qNq_kfOR"
      },
      "outputs": [],
      "source": [
        "@torch.no_grad()\n",
        "def sample(model, img_shape, img=None):\n",
        "    model.eval()\n",
        "\n",
        "    if img is None:\n",
        "        img = torch.zeros(img_shape, dtype= torch.long).to(device) - 1\n",
        "\n",
        "    for h in tqdm(range(img_shape[2]), leave = False):\n",
        "        for w in range(img_shape[3]):\n",
        "            for c in range(img_shape[1]):\n",
        "                if (img[:, c, h, w] != -1).all().item():\n",
        "                    continue\n",
        "\n",
        "                pred = model(img[:, :, :h + 1, :])\n",
        "                probs = F.softmax(pred[:, :, c, h, w]. dim = -1)\n",
        "                img[:, c, h, w] = torch.multinomial(probs, 1).squeeze(dim = -1)\n",
        "\n",
        "    return img"
      ]
    },
    {
      "cell_type": "code",
      "execution_count": null,
      "metadata": {
        "id": "oPKUYbwhkfOR"
      },
      "outputs": [],
      "source": [
        "for epoch in range(60):\n",
        "    for batch in train_loader:\n",
        "        model.train()\n",
        "        optimizer.zero_grad()\n",
        "\n",
        "        batch = batch[0].to(device)\n",
        "        loss = calc_likelihood(model, batch)\n",
        "        loss.backward()\n",
        "        optimizer.step()\n",
        "        scheduler.step()\n",
        "\n",
        "    print(f\"Epoch {epoch + 1} | Loss: {loss:.4f} | BPD: {loss / np.log2(256):.4f}\")"
      ]
    }
  ],
  "metadata": {
    "kernelspec": {
      "display_name": "base",
      "language": "python",
      "name": "python3"
    },
    "language_info": {
      "codemirror_mode": {
        "name": "ipython",
        "version": 3
      },
      "file_extension": ".py",
      "mimetype": "text/x-python",
      "name": "python",
      "nbconvert_exporter": "python",
      "pygments_lexer": "ipython3",
      "version": "3.12.2"
    },
    "colab": {
      "provenance": [],
      "include_colab_link": true
    }
  },
  "nbformat": 4,
  "nbformat_minor": 0
}