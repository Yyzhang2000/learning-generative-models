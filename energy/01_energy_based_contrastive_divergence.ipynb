{
  "nbformat": 4,
  "nbformat_minor": 0,
  "metadata": {
    "colab": {
      "provenance": [],
      "gpuType": "L4",
      "authorship_tag": "ABX9TyPrNRfhFGRBBpmihLKL4fne",
      "include_colab_link": true
    },
    "kernelspec": {
      "name": "python3",
      "display_name": "Python 3"
    },
    "language_info": {
      "name": "python"
    },
    "accelerator": "GPU",
    "widgets": {
      "application/vnd.jupyter.widget-state+json": {
        "1191f62c937a47ddb1814a33270f7250": {
          "model_module": "@jupyter-widgets/controls",
          "model_name": "HBoxModel",
          "model_module_version": "1.5.0",
          "state": {
            "_dom_classes": [],
            "_model_module": "@jupyter-widgets/controls",
            "_model_module_version": "1.5.0",
            "_model_name": "HBoxModel",
            "_view_count": null,
            "_view_module": "@jupyter-widgets/controls",
            "_view_module_version": "1.5.0",
            "_view_name": "HBoxView",
            "box_style": "",
            "children": [
              "IPY_MODEL_dd9089329016416780429151b06d04dc",
              "IPY_MODEL_a42343b83a7443559f984cb0809e041c",
              "IPY_MODEL_efe7fd11cd564113ac1e57c6a984cacd"
            ],
            "layout": "IPY_MODEL_d855476236ed4ab9ae3c7fec60e3a57b"
          }
        },
        "dd9089329016416780429151b06d04dc": {
          "model_module": "@jupyter-widgets/controls",
          "model_name": "HTMLModel",
          "model_module_version": "1.5.0",
          "state": {
            "_dom_classes": [],
            "_model_module": "@jupyter-widgets/controls",
            "_model_module_version": "1.5.0",
            "_model_name": "HTMLModel",
            "_view_count": null,
            "_view_module": "@jupyter-widgets/controls",
            "_view_module_version": "1.5.0",
            "_view_name": "HTMLView",
            "description": "",
            "description_tooltip": null,
            "layout": "IPY_MODEL_e250e213485546e186171f80ed79ece3",
            "placeholder": "​",
            "style": "IPY_MODEL_408297543c5f4a6fb9f45ab6630973fc",
            "value": " 85%"
          }
        },
        "a42343b83a7443559f984cb0809e041c": {
          "model_module": "@jupyter-widgets/controls",
          "model_name": "FloatProgressModel",
          "model_module_version": "1.5.0",
          "state": {
            "_dom_classes": [],
            "_model_module": "@jupyter-widgets/controls",
            "_model_module_version": "1.5.0",
            "_model_name": "FloatProgressModel",
            "_view_count": null,
            "_view_module": "@jupyter-widgets/controls",
            "_view_module_version": "1.5.0",
            "_view_name": "ProgressView",
            "bar_style": "",
            "description": "",
            "description_tooltip": null,
            "layout": "IPY_MODEL_9399b9bd7dda4c71beb92f30bfcac329",
            "max": 468,
            "min": 0,
            "orientation": "horizontal",
            "style": "IPY_MODEL_d1bf9fb420244d969ce9d8ca50cf39ca",
            "value": 400
          }
        },
        "efe7fd11cd564113ac1e57c6a984cacd": {
          "model_module": "@jupyter-widgets/controls",
          "model_name": "HTMLModel",
          "model_module_version": "1.5.0",
          "state": {
            "_dom_classes": [],
            "_model_module": "@jupyter-widgets/controls",
            "_model_module_version": "1.5.0",
            "_model_name": "HTMLModel",
            "_view_count": null,
            "_view_module": "@jupyter-widgets/controls",
            "_view_module_version": "1.5.0",
            "_view_name": "HTMLView",
            "description": "",
            "description_tooltip": null,
            "layout": "IPY_MODEL_a0857f4063bd4712952c47ae8cc0b245",
            "placeholder": "​",
            "style": "IPY_MODEL_5d2526c457b84c429b00f78d88409a0b",
            "value": " 400/468 [03:46&lt;00:41,  1.65it/s]"
          }
        },
        "d855476236ed4ab9ae3c7fec60e3a57b": {
          "model_module": "@jupyter-widgets/base",
          "model_name": "LayoutModel",
          "model_module_version": "1.2.0",
          "state": {
            "_model_module": "@jupyter-widgets/base",
            "_model_module_version": "1.2.0",
            "_model_name": "LayoutModel",
            "_view_count": null,
            "_view_module": "@jupyter-widgets/base",
            "_view_module_version": "1.2.0",
            "_view_name": "LayoutView",
            "align_content": null,
            "align_items": null,
            "align_self": null,
            "border": null,
            "bottom": null,
            "display": null,
            "flex": null,
            "flex_flow": null,
            "grid_area": null,
            "grid_auto_columns": null,
            "grid_auto_flow": null,
            "grid_auto_rows": null,
            "grid_column": null,
            "grid_gap": null,
            "grid_row": null,
            "grid_template_areas": null,
            "grid_template_columns": null,
            "grid_template_rows": null,
            "height": null,
            "justify_content": null,
            "justify_items": null,
            "left": null,
            "margin": null,
            "max_height": null,
            "max_width": null,
            "min_height": null,
            "min_width": null,
            "object_fit": null,
            "object_position": null,
            "order": null,
            "overflow": null,
            "overflow_x": null,
            "overflow_y": null,
            "padding": null,
            "right": null,
            "top": null,
            "visibility": null,
            "width": null
          }
        },
        "e250e213485546e186171f80ed79ece3": {
          "model_module": "@jupyter-widgets/base",
          "model_name": "LayoutModel",
          "model_module_version": "1.2.0",
          "state": {
            "_model_module": "@jupyter-widgets/base",
            "_model_module_version": "1.2.0",
            "_model_name": "LayoutModel",
            "_view_count": null,
            "_view_module": "@jupyter-widgets/base",
            "_view_module_version": "1.2.0",
            "_view_name": "LayoutView",
            "align_content": null,
            "align_items": null,
            "align_self": null,
            "border": null,
            "bottom": null,
            "display": null,
            "flex": null,
            "flex_flow": null,
            "grid_area": null,
            "grid_auto_columns": null,
            "grid_auto_flow": null,
            "grid_auto_rows": null,
            "grid_column": null,
            "grid_gap": null,
            "grid_row": null,
            "grid_template_areas": null,
            "grid_template_columns": null,
            "grid_template_rows": null,
            "height": null,
            "justify_content": null,
            "justify_items": null,
            "left": null,
            "margin": null,
            "max_height": null,
            "max_width": null,
            "min_height": null,
            "min_width": null,
            "object_fit": null,
            "object_position": null,
            "order": null,
            "overflow": null,
            "overflow_x": null,
            "overflow_y": null,
            "padding": null,
            "right": null,
            "top": null,
            "visibility": null,
            "width": null
          }
        },
        "408297543c5f4a6fb9f45ab6630973fc": {
          "model_module": "@jupyter-widgets/controls",
          "model_name": "DescriptionStyleModel",
          "model_module_version": "1.5.0",
          "state": {
            "_model_module": "@jupyter-widgets/controls",
            "_model_module_version": "1.5.0",
            "_model_name": "DescriptionStyleModel",
            "_view_count": null,
            "_view_module": "@jupyter-widgets/base",
            "_view_module_version": "1.2.0",
            "_view_name": "StyleView",
            "description_width": ""
          }
        },
        "9399b9bd7dda4c71beb92f30bfcac329": {
          "model_module": "@jupyter-widgets/base",
          "model_name": "LayoutModel",
          "model_module_version": "1.2.0",
          "state": {
            "_model_module": "@jupyter-widgets/base",
            "_model_module_version": "1.2.0",
            "_model_name": "LayoutModel",
            "_view_count": null,
            "_view_module": "@jupyter-widgets/base",
            "_view_module_version": "1.2.0",
            "_view_name": "LayoutView",
            "align_content": null,
            "align_items": null,
            "align_self": null,
            "border": null,
            "bottom": null,
            "display": null,
            "flex": null,
            "flex_flow": null,
            "grid_area": null,
            "grid_auto_columns": null,
            "grid_auto_flow": null,
            "grid_auto_rows": null,
            "grid_column": null,
            "grid_gap": null,
            "grid_row": null,
            "grid_template_areas": null,
            "grid_template_columns": null,
            "grid_template_rows": null,
            "height": null,
            "justify_content": null,
            "justify_items": null,
            "left": null,
            "margin": null,
            "max_height": null,
            "max_width": null,
            "min_height": null,
            "min_width": null,
            "object_fit": null,
            "object_position": null,
            "order": null,
            "overflow": null,
            "overflow_x": null,
            "overflow_y": null,
            "padding": null,
            "right": null,
            "top": null,
            "visibility": null,
            "width": null
          }
        },
        "d1bf9fb420244d969ce9d8ca50cf39ca": {
          "model_module": "@jupyter-widgets/controls",
          "model_name": "ProgressStyleModel",
          "model_module_version": "1.5.0",
          "state": {
            "_model_module": "@jupyter-widgets/controls",
            "_model_module_version": "1.5.0",
            "_model_name": "ProgressStyleModel",
            "_view_count": null,
            "_view_module": "@jupyter-widgets/base",
            "_view_module_version": "1.2.0",
            "_view_name": "StyleView",
            "bar_color": null,
            "description_width": ""
          }
        },
        "a0857f4063bd4712952c47ae8cc0b245": {
          "model_module": "@jupyter-widgets/base",
          "model_name": "LayoutModel",
          "model_module_version": "1.2.0",
          "state": {
            "_model_module": "@jupyter-widgets/base",
            "_model_module_version": "1.2.0",
            "_model_name": "LayoutModel",
            "_view_count": null,
            "_view_module": "@jupyter-widgets/base",
            "_view_module_version": "1.2.0",
            "_view_name": "LayoutView",
            "align_content": null,
            "align_items": null,
            "align_self": null,
            "border": null,
            "bottom": null,
            "display": null,
            "flex": null,
            "flex_flow": null,
            "grid_area": null,
            "grid_auto_columns": null,
            "grid_auto_flow": null,
            "grid_auto_rows": null,
            "grid_column": null,
            "grid_gap": null,
            "grid_row": null,
            "grid_template_areas": null,
            "grid_template_columns": null,
            "grid_template_rows": null,
            "height": null,
            "justify_content": null,
            "justify_items": null,
            "left": null,
            "margin": null,
            "max_height": null,
            "max_width": null,
            "min_height": null,
            "min_width": null,
            "object_fit": null,
            "object_position": null,
            "order": null,
            "overflow": null,
            "overflow_x": null,
            "overflow_y": null,
            "padding": null,
            "right": null,
            "top": null,
            "visibility": null,
            "width": null
          }
        },
        "5d2526c457b84c429b00f78d88409a0b": {
          "model_module": "@jupyter-widgets/controls",
          "model_name": "DescriptionStyleModel",
          "model_module_version": "1.5.0",
          "state": {
            "_model_module": "@jupyter-widgets/controls",
            "_model_module_version": "1.5.0",
            "_model_name": "DescriptionStyleModel",
            "_view_count": null,
            "_view_module": "@jupyter-widgets/base",
            "_view_module_version": "1.2.0",
            "_view_name": "StyleView",
            "description_width": ""
          }
        }
      }
    }
  },
  "cells": [
    {
      "cell_type": "markdown",
      "metadata": {
        "id": "view-in-github",
        "colab_type": "text"
      },
      "source": [
        "<a href=\"https://colab.research.google.com/github/Yyzhang2000/learning-generative-models/blob/main/energy/01_energy_based_contrastive_divergence.ipynb\" target=\"_parent\"><img src=\"https://colab.research.google.com/assets/colab-badge.svg\" alt=\"Open In Colab\"/></a>"
      ]
    },
    {
      "cell_type": "code",
      "execution_count": 1,
      "metadata": {
        "id": "5exBgjATQwUK"
      },
      "outputs": [],
      "source": [
        "import os\n",
        "import json\n",
        "import math\n",
        "import numpy as np\n",
        "import random\n",
        "\n",
        "import torch\n",
        "from torch import optim\n",
        "import torch.nn as nn\n",
        "import torch.nn.functional as F\n",
        "import torch.utils.data as data\n",
        "\n",
        "import torchvision\n",
        "from torchvision.datasets import MNIST\n",
        "from torchvision import transforms\n",
        "\n",
        "from tqdm.notebook import tqdm\n",
        "import matplotlib.pyplot as plt"
      ]
    },
    {
      "cell_type": "code",
      "source": [
        "DATASET_PATH = \"./data\"\n",
        "CHECKPOINT_PATH = \"./models\"\n",
        "\n",
        "torch.backends.cudnn.deterministic = True\n",
        "torch.backends.cudnn.benchmark = False\n",
        "\n",
        "device = torch.device(\"cuda:0\") if torch.cuda.is_available() else torch.device(\"cpu\")\n",
        "print(\"Device:\", device)"
      ],
      "metadata": {
        "colab": {
          "base_uri": "https://localhost:8080/"
        },
        "id": "LxT617_0Q76b",
        "outputId": "885d74a5-54d9-4400-b148-82c5593045d4"
      },
      "execution_count": 2,
      "outputs": [
        {
          "output_type": "stream",
          "name": "stdout",
          "text": [
            "Device: cuda:0\n"
          ]
        }
      ]
    },
    {
      "cell_type": "code",
      "source": [
        "transform = transforms.Compose([\n",
        "    transforms.ToTensor(),\n",
        "    transforms.Normalize((0.5,), (0.5,))\n",
        "                               ])\n",
        "\n",
        "# Loading the training dataset. We need to split it into a training and validation part\n",
        "train_set = MNIST(root=DATASET_PATH, train=True, transform=transform, download=True)\n",
        "\n",
        "# Loading the test set\n",
        "test_set = MNIST(root=DATASET_PATH, train=False, transform=transform, download=True)\n",
        "\n",
        "# We define a set of data loaders that we can use for various purposes later.\n",
        "# Note that for actually training a model, we will use different data loaders\n",
        "# with a lower batch size.\n",
        "train_loader = data.DataLoader(train_set, batch_size=128, shuffle=True,  drop_last=True,  num_workers=2, pin_memory=True)\n",
        "test_loader  = data.DataLoader(test_set,  batch_size=256, shuffle=False, drop_last=False, num_workers=2)"
      ],
      "metadata": {
        "colab": {
          "base_uri": "https://localhost:8080/"
        },
        "id": "3PKNrvBcRKuD",
        "outputId": "6c4b9408-0954-47d1-d296-875319d1b2f0"
      },
      "execution_count": 3,
      "outputs": [
        {
          "output_type": "stream",
          "name": "stderr",
          "text": [
            "100%|██████████| 9.91M/9.91M [00:01<00:00, 5.07MB/s]\n",
            "100%|██████████| 28.9k/28.9k [00:00<00:00, 58.3kB/s]\n",
            "100%|██████████| 1.65M/1.65M [00:01<00:00, 1.27MB/s]\n",
            "100%|██████████| 4.54k/4.54k [00:00<00:00, 7.42MB/s]\n"
          ]
        }
      ]
    },
    {
      "cell_type": "code",
      "source": [
        "class Swish(nn.Module):\n",
        "    def forward(self, x):\n",
        "        return x * torch.sigmoid(x)\n",
        "\n",
        "\n",
        "class CNNModel(nn.Module):\n",
        "    def __init__(\n",
        "            self,\n",
        "            hidden_features = 32,\n",
        "            out_dim = 1,\n",
        "    ):\n",
        "        super().__init__()\n",
        "        self.layers = nn.Sequential(\n",
        "            nn.Conv2d(1, hidden_features // 2, kernel_size = 5, stride = 2, padding = 4),\n",
        "            Swish(),\n",
        "            nn.Conv2d(hidden_features // 2, hidden_features,kernel_size=3, stride=2, padding=1),\n",
        "            Swish(),\n",
        "            nn.Conv2d(hidden_features, hidden_features * 2, kernel_size=3, stride=2, padding=1),\n",
        "            Swish(),\n",
        "            nn.Conv2d(hidden_features * 2, hidden_features * 2, kernel_size=3, stride=2, padding=1),\n",
        "            Swish(),\n",
        "            nn.Flatten(),\n",
        "            nn.Linear(hidden_features * 2 * 4, hidden_features * 2),\n",
        "            Swish(),\n",
        "            nn.Linear(hidden_features * 2, out_dim)\n",
        "        )\n",
        "\n",
        "\n",
        "    def forward(self, x):\n",
        "        x = self.layers(x).squeeze(dim = -1)\n",
        "\n",
        "        return x"
      ],
      "metadata": {
        "id": "UwB3fv_qRVFF"
      },
      "execution_count": 4,
      "outputs": []
    },
    {
      "cell_type": "code",
      "source": [
        "class Sampler:\n",
        "    def __init__(\n",
        "            self,\n",
        "            model,\n",
        "            img_shape,\n",
        "            sample_size,\n",
        "            max_len = 8192\n",
        "    ):\n",
        "        self.model = model\n",
        "        self.img_shape = img_shape\n",
        "        self.sample_size = sample_size\n",
        "        self.max_len = max_len\n",
        "        self.examples = [(torch.rand((1,) + img_shape) * 2 - 1) for _ in range(self.sample_size)]\n",
        "\n",
        "    def sample_new_exmps(self, steps = 60, step_size = 10):\n",
        "        # Choose 95% of the batch from the buffer, 5% generate from scratch\n",
        "        n_new = np.random.binomial(self.sample_size, 0.05)\n",
        "        rand_imgs = torch.rand((n_new, ) + (self.img_shape) )* 2 - 1\n",
        "        old_imgs = torch.cat(\n",
        "            random.choices(self.examples, k = self.sample_size - n_new), dim = 0\n",
        "        )\n",
        "        inp_imgs = torch.cat(\n",
        "            (rand_imgs, old_imgs), dim = 0\n",
        "        )\n",
        "\n",
        "        # Perform MCMC Sampling\n",
        "        inp_imgs = Sampler.generate_samples(\n",
        "            self.model,\n",
        "            inp_imgs,\n",
        "            steps = steps,\n",
        "            step_size = step_size\n",
        "        )\n",
        "\n",
        "        return inp_imgs\n",
        "\n",
        "    @staticmethod\n",
        "    def generate_samples(\n",
        "            model,\n",
        "            inp_imgs,\n",
        "            steps = 60,\n",
        "            step_size = 10,\n",
        "            return_img_per_step = False\n",
        "    ):\n",
        "        is_training = model.training\n",
        "\n",
        "        model.eval()\n",
        "        for p  in model.parameters():\n",
        "            p.requires_grad = False\n",
        "        inp_imgs.requires_grad = True # To get Score\n",
        "\n",
        "        had_gradients_enable = torch.is_grad_enabled()\n",
        "        torch.set_grad_enabled(True)\n",
        "\n",
        "\n",
        "        noise = torch.randn(inp_imgs.shape, device = inp_imgs.device)\n",
        "\n",
        "        imgs_per_step = []\n",
        "        for _ in range(steps):\n",
        "\n",
        "            # 1. Add Noise to the input\n",
        "            noise.normal_(0, 0.005)\n",
        "            inp_imgs.data.add_(noise.data)\n",
        "            inp_imgs.data.clamp_(-1.0, 1.0)\n",
        "\n",
        "            # 2. Calculate gradients for the input\n",
        "            out_imgs = -model(inp_imgs)\n",
        "            out_imgs.sum().backward()\n",
        "            inp_imgs.grad.data.clamp_(-0.03, 0.03) # For stabilizing and preventing too high gradients\n",
        "\n",
        "            # 3. Step according to the gradient\n",
        "            inp_imgs.data.add_(-step_size * inp_imgs.grad.data)\n",
        "            inp_imgs.data.clamp_(-1.0, 1.0)\n",
        "\n",
        "            # Clear Gradient\n",
        "            inp_imgs.grad.detach_()\n",
        "            inp_imgs.grad.zero_()\n",
        "\n",
        "\n",
        "            if return_img_per_step:\n",
        "                imgs_per_step.append(inp_imgs.clone().detach())\n",
        "\n",
        "\n",
        "        for p in model.parameters():\n",
        "            p.requires_grad = True\n",
        "\n",
        "        model.train(is_training)\n",
        "        torch.set_grad_enabled(had_gradients_enable)\n",
        "\n",
        "        if return_img_per_step:\n",
        "            return torch.stack(imgs_per_step, dim = 0)\n",
        "        else:\n",
        "            return inp_imgs"
      ],
      "metadata": {
        "id": "wWo9FJP4SELf"
      },
      "execution_count": 5,
      "outputs": []
    },
    {
      "cell_type": "code",
      "source": [
        "model = CNNModel()\n",
        "sampler = Sampler(model, img_shape=(1,28,28),sample_size=train_loader.batch_size)\n",
        "optimizer = optim.Adam(\n",
        "    model.parameters(),\n",
        "    lr=1e-4,\n",
        "    betas = (0.0, 0.999)\n",
        ")\n",
        "scheduler = optim.lr_scheduler.StepLR(\n",
        "    optimizer,\n",
        "    1,\n",
        "    gamma = 0.97\n",
        ")"
      ],
      "metadata": {
        "id": "Po8hT1H5UkKO"
      },
      "execution_count": 6,
      "outputs": []
    },
    {
      "cell_type": "code",
      "source": [
        "def training_step(model, batch, sampler, alpha = 0.1):\n",
        "    real_imgs, _ = batch\n",
        "    small_noise = torch.randn_like(real_imgs) * 0.005\n",
        "    real_imgs.add_(small_noise).clamp_(-1.0, 1.0)\n",
        "\n",
        "    # Obtain samples\n",
        "    fake_imgs = sampler.sample_new_exmps(\n",
        "        steps = 60,\n",
        "        step_size = 10\n",
        "    )\n",
        "\n",
        "    # Predict energy score for all imgs\n",
        "    inp_imgs = torch.cat([real_imgs, fake_imgs], dim = 0)\n",
        "    real_out, fake_out = model(inp_imgs).chunk(2, dim = 0)\n",
        "\n",
        "    # Calculate loss\n",
        "    reg_loss = alpha * (real_out ** 2 + fake_out ** 2).mean()\n",
        "    cdiv_loss = fake_out.mean() - real_out.mean()\n",
        "    loss = reg_loss + cdiv_loss\n",
        "    return loss"
      ],
      "metadata": {
        "id": "HOf7Ybx1VOzE"
      },
      "execution_count": 7,
      "outputs": []
    },
    {
      "cell_type": "code",
      "source": [],
      "metadata": {
        "id": "Gpsc31dEX4PQ"
      },
      "execution_count": 8,
      "outputs": []
    },
    {
      "cell_type": "code",
      "source": [
        "losses = []\n",
        "for epoch in range(60):\n",
        "    print(f\"{epoch + 1} / 60\")\n",
        "    for batch in tqdm(train_loader):\n",
        "        loss = training_step(model, batch, sampler)\n",
        "\n",
        "        optimizer.zero_grad()\n",
        "        loss.backward()\n",
        "        optimizer.step()\n",
        "        scheduler.step()\n",
        "\n",
        "        losses.append(loss.item())\n",
        "\n",
        "    avg_loss = sum(losses[-len(train_loader)]) / len(train_loader)\n",
        "    print(f\"Average loss: {avg_loss:.4f}\")"
      ],
      "metadata": {
        "colab": {
          "base_uri": "https://localhost:8080/",
          "height": 67,
          "referenced_widgets": [
            "1191f62c937a47ddb1814a33270f7250",
            "dd9089329016416780429151b06d04dc",
            "a42343b83a7443559f984cb0809e041c",
            "efe7fd11cd564113ac1e57c6a984cacd",
            "d855476236ed4ab9ae3c7fec60e3a57b",
            "e250e213485546e186171f80ed79ece3",
            "408297543c5f4a6fb9f45ab6630973fc",
            "9399b9bd7dda4c71beb92f30bfcac329",
            "d1bf9fb420244d969ce9d8ca50cf39ca",
            "a0857f4063bd4712952c47ae8cc0b245",
            "5d2526c457b84c429b00f78d88409a0b"
          ]
        },
        "id": "CbAxR_r9Wxwd",
        "outputId": "8698c545-47d0-4e47-bdc1-04d8a4070007"
      },
      "execution_count": null,
      "outputs": [
        {
          "output_type": "stream",
          "name": "stdout",
          "text": [
            "1 / 60\n"
          ]
        },
        {
          "output_type": "display_data",
          "data": {
            "text/plain": [
              "  0%|          | 0/468 [00:00<?, ?it/s]"
            ],
            "application/vnd.jupyter.widget-view+json": {
              "version_major": 2,
              "version_minor": 0,
              "model_id": "1191f62c937a47ddb1814a33270f7250"
            }
          },
          "metadata": {}
        }
      ]
    },
    {
      "cell_type": "code",
      "source": [
        "len(train_set)"
      ],
      "metadata": {
        "colab": {
          "base_uri": "https://localhost:8080/"
        },
        "id": "SOTDU5dbZRDk",
        "outputId": "7a6795f8-00cd-42aa-bbb1-dd8ddff46b15"
      },
      "execution_count": 11,
      "outputs": [
        {
          "output_type": "execute_result",
          "data": {
            "text/plain": [
              "60000"
            ]
          },
          "metadata": {},
          "execution_count": 11
        }
      ]
    },
    {
      "cell_type": "code",
      "source": [
        "len(train_loader)"
      ],
      "metadata": {
        "colab": {
          "base_uri": "https://localhost:8080/"
        },
        "id": "enwNZXSDZQDP",
        "outputId": "cc621d47-1257-493c-ca88-ace73ab03197"
      },
      "execution_count": 10,
      "outputs": [
        {
          "output_type": "execute_result",
          "data": {
            "text/plain": [
              "468"
            ]
          },
          "metadata": {},
          "execution_count": 10
        }
      ]
    },
    {
      "cell_type": "code",
      "source": [],
      "metadata": {
        "id": "J94Dzlz8Y47p"
      },
      "execution_count": null,
      "outputs": []
    },
    {
      "cell_type": "code",
      "source": [
        "plt.plot(losses)"
      ],
      "metadata": {
        "id": "ty2Gd_WiY5Se"
      },
      "execution_count": null,
      "outputs": []
    },
    {
      "cell_type": "code",
      "source": [
        "torch.save(model.state_dict(), os.path.join(CHECKPOINT_PATH, \"energy_mnist.pth\"))"
      ],
      "metadata": {
        "id": "LAn4FixJXLtP"
      },
      "execution_count": null,
      "outputs": []
    },
    {
      "cell_type": "code",
      "source": [],
      "metadata": {
        "id": "xcnX7hKZY7Eq"
      },
      "execution_count": null,
      "outputs": []
    }
  ]
}