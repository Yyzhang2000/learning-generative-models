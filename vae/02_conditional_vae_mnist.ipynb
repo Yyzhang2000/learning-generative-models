{
  "nbformat": 4,
  "nbformat_minor": 0,
  "metadata": {
    "colab": {
      "provenance": [],
      "gpuType": "T4",
      "authorship_tag": "ABX9TyNwZ03zrW2R6N78yv6WPDIb",
      "include_colab_link": true
    },
    "kernelspec": {
      "name": "python3",
      "display_name": "Python 3"
    },
    "language_info": {
      "name": "python"
    },
    "widgets": {
      "application/vnd.jupyter.widget-state+json": {
        "99a516e187ec44559d62b21352b80bb8": {
          "model_module": "@jupyter-widgets/controls",
          "model_name": "HBoxModel",
          "model_module_version": "1.5.0",
          "state": {
            "_dom_classes": [],
            "_model_module": "@jupyter-widgets/controls",
            "_model_module_version": "1.5.0",
            "_model_name": "HBoxModel",
            "_view_count": null,
            "_view_module": "@jupyter-widgets/controls",
            "_view_module_version": "1.5.0",
            "_view_name": "HBoxView",
            "box_style": "",
            "children": [
              "IPY_MODEL_56151a558cac4d03a7f5bea7f45c02a4",
              "IPY_MODEL_c5afaf7c49404068bd5b9fc115df88a4",
              "IPY_MODEL_0d9091be3a4f4887a0471f2290ffb866"
            ],
            "layout": "IPY_MODEL_391ab711cc3f4b99bffc1ee4177e3a1a"
          }
        },
        "56151a558cac4d03a7f5bea7f45c02a4": {
          "model_module": "@jupyter-widgets/controls",
          "model_name": "HTMLModel",
          "model_module_version": "1.5.0",
          "state": {
            "_dom_classes": [],
            "_model_module": "@jupyter-widgets/controls",
            "_model_module_version": "1.5.0",
            "_model_name": "HTMLModel",
            "_view_count": null,
            "_view_module": "@jupyter-widgets/controls",
            "_view_module_version": "1.5.0",
            "_view_name": "HTMLView",
            "description": "",
            "description_tooltip": null,
            "layout": "IPY_MODEL_487aad19cab24bd79e12a8891ba505d5",
            "placeholder": "​",
            "style": "IPY_MODEL_a1337e3bbc054a5eba41cc0942746120",
            "value": "100%"
          }
        },
        "c5afaf7c49404068bd5b9fc115df88a4": {
          "model_module": "@jupyter-widgets/controls",
          "model_name": "FloatProgressModel",
          "model_module_version": "1.5.0",
          "state": {
            "_dom_classes": [],
            "_model_module": "@jupyter-widgets/controls",
            "_model_module_version": "1.5.0",
            "_model_name": "FloatProgressModel",
            "_view_count": null,
            "_view_module": "@jupyter-widgets/controls",
            "_view_module_version": "1.5.0",
            "_view_name": "ProgressView",
            "bar_style": "success",
            "description": "",
            "description_tooltip": null,
            "layout": "IPY_MODEL_d81c5a4064234062ac2a3cf1683f3612",
            "max": 50,
            "min": 0,
            "orientation": "horizontal",
            "style": "IPY_MODEL_b072ad23ea9f4cecadecf0d63388bfe4",
            "value": 50
          }
        },
        "0d9091be3a4f4887a0471f2290ffb866": {
          "model_module": "@jupyter-widgets/controls",
          "model_name": "HTMLModel",
          "model_module_version": "1.5.0",
          "state": {
            "_dom_classes": [],
            "_model_module": "@jupyter-widgets/controls",
            "_model_module_version": "1.5.0",
            "_model_name": "HTMLModel",
            "_view_count": null,
            "_view_module": "@jupyter-widgets/controls",
            "_view_module_version": "1.5.0",
            "_view_name": "HTMLView",
            "description": "",
            "description_tooltip": null,
            "layout": "IPY_MODEL_c5a56ec4b8044d538774d9d237d6d37a",
            "placeholder": "​",
            "style": "IPY_MODEL_442330cd96124772a3ac1d5423e94481",
            "value": " 50/50 [05:38&lt;00:00,  6.86s/it]"
          }
        },
        "391ab711cc3f4b99bffc1ee4177e3a1a": {
          "model_module": "@jupyter-widgets/base",
          "model_name": "LayoutModel",
          "model_module_version": "1.2.0",
          "state": {
            "_model_module": "@jupyter-widgets/base",
            "_model_module_version": "1.2.0",
            "_model_name": "LayoutModel",
            "_view_count": null,
            "_view_module": "@jupyter-widgets/base",
            "_view_module_version": "1.2.0",
            "_view_name": "LayoutView",
            "align_content": null,
            "align_items": null,
            "align_self": null,
            "border": null,
            "bottom": null,
            "display": null,
            "flex": null,
            "flex_flow": null,
            "grid_area": null,
            "grid_auto_columns": null,
            "grid_auto_flow": null,
            "grid_auto_rows": null,
            "grid_column": null,
            "grid_gap": null,
            "grid_row": null,
            "grid_template_areas": null,
            "grid_template_columns": null,
            "grid_template_rows": null,
            "height": null,
            "justify_content": null,
            "justify_items": null,
            "left": null,
            "margin": null,
            "max_height": null,
            "max_width": null,
            "min_height": null,
            "min_width": null,
            "object_fit": null,
            "object_position": null,
            "order": null,
            "overflow": null,
            "overflow_x": null,
            "overflow_y": null,
            "padding": null,
            "right": null,
            "top": null,
            "visibility": null,
            "width": null
          }
        },
        "487aad19cab24bd79e12a8891ba505d5": {
          "model_module": "@jupyter-widgets/base",
          "model_name": "LayoutModel",
          "model_module_version": "1.2.0",
          "state": {
            "_model_module": "@jupyter-widgets/base",
            "_model_module_version": "1.2.0",
            "_model_name": "LayoutModel",
            "_view_count": null,
            "_view_module": "@jupyter-widgets/base",
            "_view_module_version": "1.2.0",
            "_view_name": "LayoutView",
            "align_content": null,
            "align_items": null,
            "align_self": null,
            "border": null,
            "bottom": null,
            "display": null,
            "flex": null,
            "flex_flow": null,
            "grid_area": null,
            "grid_auto_columns": null,
            "grid_auto_flow": null,
            "grid_auto_rows": null,
            "grid_column": null,
            "grid_gap": null,
            "grid_row": null,
            "grid_template_areas": null,
            "grid_template_columns": null,
            "grid_template_rows": null,
            "height": null,
            "justify_content": null,
            "justify_items": null,
            "left": null,
            "margin": null,
            "max_height": null,
            "max_width": null,
            "min_height": null,
            "min_width": null,
            "object_fit": null,
            "object_position": null,
            "order": null,
            "overflow": null,
            "overflow_x": null,
            "overflow_y": null,
            "padding": null,
            "right": null,
            "top": null,
            "visibility": null,
            "width": null
          }
        },
        "a1337e3bbc054a5eba41cc0942746120": {
          "model_module": "@jupyter-widgets/controls",
          "model_name": "DescriptionStyleModel",
          "model_module_version": "1.5.0",
          "state": {
            "_model_module": "@jupyter-widgets/controls",
            "_model_module_version": "1.5.0",
            "_model_name": "DescriptionStyleModel",
            "_view_count": null,
            "_view_module": "@jupyter-widgets/base",
            "_view_module_version": "1.2.0",
            "_view_name": "StyleView",
            "description_width": ""
          }
        },
        "d81c5a4064234062ac2a3cf1683f3612": {
          "model_module": "@jupyter-widgets/base",
          "model_name": "LayoutModel",
          "model_module_version": "1.2.0",
          "state": {
            "_model_module": "@jupyter-widgets/base",
            "_model_module_version": "1.2.0",
            "_model_name": "LayoutModel",
            "_view_count": null,
            "_view_module": "@jupyter-widgets/base",
            "_view_module_version": "1.2.0",
            "_view_name": "LayoutView",
            "align_content": null,
            "align_items": null,
            "align_self": null,
            "border": null,
            "bottom": null,
            "display": null,
            "flex": null,
            "flex_flow": null,
            "grid_area": null,
            "grid_auto_columns": null,
            "grid_auto_flow": null,
            "grid_auto_rows": null,
            "grid_column": null,
            "grid_gap": null,
            "grid_row": null,
            "grid_template_areas": null,
            "grid_template_columns": null,
            "grid_template_rows": null,
            "height": null,
            "justify_content": null,
            "justify_items": null,
            "left": null,
            "margin": null,
            "max_height": null,
            "max_width": null,
            "min_height": null,
            "min_width": null,
            "object_fit": null,
            "object_position": null,
            "order": null,
            "overflow": null,
            "overflow_x": null,
            "overflow_y": null,
            "padding": null,
            "right": null,
            "top": null,
            "visibility": null,
            "width": null
          }
        },
        "b072ad23ea9f4cecadecf0d63388bfe4": {
          "model_module": "@jupyter-widgets/controls",
          "model_name": "ProgressStyleModel",
          "model_module_version": "1.5.0",
          "state": {
            "_model_module": "@jupyter-widgets/controls",
            "_model_module_version": "1.5.0",
            "_model_name": "ProgressStyleModel",
            "_view_count": null,
            "_view_module": "@jupyter-widgets/base",
            "_view_module_version": "1.2.0",
            "_view_name": "StyleView",
            "bar_color": null,
            "description_width": ""
          }
        },
        "c5a56ec4b8044d538774d9d237d6d37a": {
          "model_module": "@jupyter-widgets/base",
          "model_name": "LayoutModel",
          "model_module_version": "1.2.0",
          "state": {
            "_model_module": "@jupyter-widgets/base",
            "_model_module_version": "1.2.0",
            "_model_name": "LayoutModel",
            "_view_count": null,
            "_view_module": "@jupyter-widgets/base",
            "_view_module_version": "1.2.0",
            "_view_name": "LayoutView",
            "align_content": null,
            "align_items": null,
            "align_self": null,
            "border": null,
            "bottom": null,
            "display": null,
            "flex": null,
            "flex_flow": null,
            "grid_area": null,
            "grid_auto_columns": null,
            "grid_auto_flow": null,
            "grid_auto_rows": null,
            "grid_column": null,
            "grid_gap": null,
            "grid_row": null,
            "grid_template_areas": null,
            "grid_template_columns": null,
            "grid_template_rows": null,
            "height": null,
            "justify_content": null,
            "justify_items": null,
            "left": null,
            "margin": null,
            "max_height": null,
            "max_width": null,
            "min_height": null,
            "min_width": null,
            "object_fit": null,
            "object_position": null,
            "order": null,
            "overflow": null,
            "overflow_x": null,
            "overflow_y": null,
            "padding": null,
            "right": null,
            "top": null,
            "visibility": null,
            "width": null
          }
        },
        "442330cd96124772a3ac1d5423e94481": {
          "model_module": "@jupyter-widgets/controls",
          "model_name": "DescriptionStyleModel",
          "model_module_version": "1.5.0",
          "state": {
            "_model_module": "@jupyter-widgets/controls",
            "_model_module_version": "1.5.0",
            "_model_name": "DescriptionStyleModel",
            "_view_count": null,
            "_view_module": "@jupyter-widgets/base",
            "_view_module_version": "1.2.0",
            "_view_name": "StyleView",
            "description_width": ""
          }
        }
      }
    },
    "accelerator": "GPU"
  },
  "cells": [
    {
      "cell_type": "markdown",
      "metadata": {
        "id": "view-in-github",
        "colab_type": "text"
      },
      "source": [
        "<a href=\"https://colab.research.google.com/github/Yyzhang2000/learning-generative-models/blob/main/vae/02_conditional_vae_mnist.ipynb\" target=\"_parent\"><img src=\"https://colab.research.google.com/assets/colab-badge.svg\" alt=\"Open In Colab\"/></a>"
      ]
    },
    {
      "cell_type": "code",
      "execution_count": 54,
      "metadata": {
        "id": "IPWfhjw8n8e0"
      },
      "outputs": [],
      "source": [
        "import torch\n",
        "import torch.nn as nn\n",
        "import torch.nn.functional as F\n",
        "from torch.optim import Adam\n",
        "\n",
        "import numpy as np\n",
        "import matplotlib.pyplot as plt\n",
        "from torchvision.datasets import MNIST\n",
        "from torch.utils.data import DataLoader\n",
        "import torchvision.transforms as transforms\n",
        "from mpl_toolkits.axes_grid1 import ImageGrid\n",
        "from torchvision.utils import save_image, make_grid\n",
        "\n",
        "from tqdm.autonotebook import trange\n",
        "import random"
      ]
    },
    {
      "cell_type": "code",
      "source": [
        "DATA_PATH = \"./data\"\n",
        "batch_size = 128\n",
        "device = torch.device(\"cuda\" if torch.cuda.is_available() else \"cpu\")"
      ],
      "metadata": {
        "id": "NGMBEkPJolGp"
      },
      "execution_count": 55,
      "outputs": []
    },
    {
      "cell_type": "code",
      "source": [
        "transform = transforms.Compose([transforms.ToTensor()])\n",
        "train_dataset = MNIST(DATA_PATH, transform=transform, download=True)\n",
        "test_dataset  = MNIST(DATA_PATH, transform=transform, download=True)\n",
        "\n",
        "train_loader = DataLoader(dataset=train_dataset, batch_size=batch_size, shuffle=True)\n",
        "test_loader = DataLoader(dataset=test_dataset, batch_size=batch_size, shuffle=False)"
      ],
      "metadata": {
        "id": "rsHFvAwdohYf"
      },
      "execution_count": 56,
      "outputs": []
    },
    {
      "cell_type": "markdown",
      "source": [
        "# Autoencoder Model"
      ],
      "metadata": {
        "id": "OjHq1rO4owJK"
      }
    },
    {
      "cell_type": "code",
      "source": [
        "class Encoder(nn.Module):\n",
        "    def __init__(\n",
        "            self,\n",
        "            in_dim = 28 * 28,\n",
        "            hidden_dim = 512,\n",
        "            latent_dim = 8\n",
        "    ):\n",
        "        super().__init__()\n",
        "\n",
        "        self.ln1 = nn.Linear(in_dim, hidden_dim, bias = False)\n",
        "        self.ln2 = nn.Linear(hidden_dim, hidden_dim, bias = False)\n",
        "\n",
        "        self.mean = nn.Linear(hidden_dim, latent_dim, bias = False)\n",
        "        self.log_var = nn.Linear(hidden_dim, latent_dim)\n",
        "\n",
        "        self.act = nn.LeakyReLU(0.2)\n",
        "\n",
        "    def forward(self, x):\n",
        "        hidden = self.act(self.ln2(self.act(self.ln1(x))))\n",
        "\n",
        "        mean = self.mean(hidden)\n",
        "        log_var = self.log_var(hidden)\n",
        "\n",
        "        return mean, log_var"
      ],
      "metadata": {
        "id": "shsO9ef0ouk6"
      },
      "execution_count": 57,
      "outputs": []
    },
    {
      "cell_type": "code",
      "source": [
        "class Decoder(nn.Module):\n",
        "    def __init__(self, out_dim=28 * 28, hidden_dim=512, latent_dim = 8):\n",
        "        super().__init__()\n",
        "\n",
        "        self.ln1 = nn.Linear(latent_dim, hidden_dim, bias = False)\n",
        "        self.ln2 = nn.Linear(hidden_dim, hidden_dim, bias = False)\n",
        "        self.output = nn.Linear(hidden_dim, out_dim, bias = False)\n",
        "\n",
        "        self.act = nn.LeakyReLU(0.2)\n",
        "\n",
        "    def forward(self, z):\n",
        "        hidden = self.act(self.ln2(self.act(self.ln1(z))))\n",
        "\n",
        "        x_hat = F.sigmoid(self.output(hidden))\n",
        "\n",
        "        return x_hat"
      ],
      "metadata": {
        "id": "0nZcxVDCpUQq"
      },
      "execution_count": 58,
      "outputs": []
    },
    {
      "cell_type": "code",
      "source": [
        "class VAE(nn.Module):\n",
        "    def __init__(self,num_classes = 10 ,latent_dim = 8):\n",
        "        super().__init__()\n",
        "\n",
        "        self.encoder = Encoder()\n",
        "        self.decoder = Decoder()\n",
        "\n",
        "        self.label_embedding = nn.Embedding(num_classes, latent_dim)\n",
        "        self.num_classes = num_classes\n",
        "\n",
        "\n",
        "    def encode(self, x):\n",
        "        mean, log_var  = self.encoder(x)\n",
        "        return mean, log_var\n",
        "\n",
        "    def decode(self, z, y):\n",
        "        z += self.label_embedding(y)\n",
        "        return self.decoder(z)\n",
        "\n",
        "    def reparameterization(self, mean, var):\n",
        "        eps = torch.rand_like(var).to(mean.device)\n",
        "        z = mean + var * eps\n",
        "        return z\n",
        "\n",
        "\n",
        "    def forward(self, x, y):\n",
        "        mean, log_var = self.encode(x)\n",
        "        z = self.reparameterization(mean, torch.exp(0.5 * log_var))\n",
        "\n",
        "\n",
        "        x_hat = self.decode(z, y)\n",
        "        return x_hat, mean, log_var\n",
        "\n",
        "    def generate(self, y=None):\n",
        "        if not y:\n",
        "            y = random.randint(0, self.num_classes)\n",
        "            y = torch.tensor([y]).unsqueeze(0)\n",
        "\n",
        "        self.eval()\n",
        "        with torch.no_grad():\n",
        "            z = torch.randn(1, 1, 8)\n",
        "            sample = self.decode(z, y)\n",
        "\n",
        "        return sample\n"
      ],
      "metadata": {
        "id": "OKxHtdY4pxag"
      },
      "execution_count": 59,
      "outputs": []
    },
    {
      "cell_type": "code",
      "source": [
        "model = VAE().to(device)\n",
        "optimizer = Adam(model.parameters(), lr=1e-3)"
      ],
      "metadata": {
        "id": "uFIFFV8DquOk"
      },
      "execution_count": 60,
      "outputs": []
    },
    {
      "cell_type": "code",
      "source": [
        "def loss_function(x, x_hat, mean, log_var):\n",
        "    construction_loss = F.binary_cross_entropy(x_hat, x, reduction='sum')\n",
        "    KL_Div = -0.5 * torch.sum(1 + log_var - mean.pow(2) - log_var.exp())\n",
        "    return construction_loss + KL_Div"
      ],
      "metadata": {
        "id": "A8C2r0lyqvZj"
      },
      "execution_count": 61,
      "outputs": []
    },
    {
      "cell_type": "code",
      "source": [
        "model.train()\n",
        "losses = []\n",
        "for epoch in trange(50):\n",
        "    for x, y in train_loader:\n",
        "        x = x.flatten(1).to(device)\n",
        "        y = y.to(device)\n",
        "\n",
        "        x_hat, mean, log_var = model(x, y)\n",
        "        loss = loss_function(x, x_hat, mean, log_var)\n",
        "\n",
        "        losses.append(loss.item())\n",
        "\n",
        "        optimizer.zero_grad()\n",
        "        loss.backward()\n",
        "        optimizer.step()"
      ],
      "metadata": {
        "colab": {
          "base_uri": "https://localhost:8080/",
          "height": 49,
          "referenced_widgets": [
            "99a516e187ec44559d62b21352b80bb8",
            "56151a558cac4d03a7f5bea7f45c02a4",
            "c5afaf7c49404068bd5b9fc115df88a4",
            "0d9091be3a4f4887a0471f2290ffb866",
            "391ab711cc3f4b99bffc1ee4177e3a1a",
            "487aad19cab24bd79e12a8891ba505d5",
            "a1337e3bbc054a5eba41cc0942746120",
            "d81c5a4064234062ac2a3cf1683f3612",
            "b072ad23ea9f4cecadecf0d63388bfe4",
            "c5a56ec4b8044d538774d9d237d6d37a",
            "442330cd96124772a3ac1d5423e94481"
          ]
        },
        "id": "H7p70Lwbq9yf",
        "outputId": "747bfee7-b750-49bd-f35b-9f806add2e22"
      },
      "execution_count": 62,
      "outputs": [
        {
          "output_type": "display_data",
          "data": {
            "text/plain": [
              "  0%|          | 0/50 [00:00<?, ?it/s]"
            ],
            "application/vnd.jupyter.widget-view+json": {
              "version_major": 2,
              "version_minor": 0,
              "model_id": "99a516e187ec44559d62b21352b80bb8"
            }
          },
          "metadata": {}
        }
      ]
    },
    {
      "cell_type": "code",
      "source": [
        "plt.plot(losses);"
      ],
      "metadata": {
        "colab": {
          "base_uri": "https://localhost:8080/",
          "height": 430
        },
        "id": "99NfXW6KwV0e",
        "outputId": "f5bddfdd-7fa2-4798-8626-b80374be46af"
      },
      "execution_count": 63,
      "outputs": [
        {
          "output_type": "display_data",
          "data": {
            "text/plain": [
              "<Figure size 640x480 with 1 Axes>"
            ],
            "image/png": "[encoded data removed]"
          },
          "metadata": {}
        }
      ]
    },
    {
      "cell_type": "markdown",
      "source": [
        "# Sampling from the Generative Models"
      ],
      "metadata": {
        "id": "6--tEL6PvQBY"
      }
    },
    {
      "cell_type": "code",
      "source": [
        "model.to('cpu')\n",
        "for i in range(10):\n",
        "    sample = model.generate(y = torch.tensor([i]).unsqueeze(0))\n",
        "    sample = sample.reshape(28, 28).squeeze(0).detach().cpu().numpy()\n",
        "\n",
        "    f, axarr = plt.subplots(1)\n",
        "    axarr.imshow(sample)"
      ],
      "metadata": {
        "id": "40xn-L4c0FVp",
        "colab": {
          "base_uri": "https://localhost:8080/",
          "height": 1000
        },
        "outputId": "9463ba2d-0b6b-4dbe-a7c0-f1edcd3aad5d"
      },
      "execution_count": 64,
      "outputs": [
        {
          "output_type": "display_data",
          "data": {
            "text/plain": [
              "<Figure size 640x480 with 1 Axes>"
            ],
            "image/png": "[encoded data removed]"
          },
          "metadata": {}
        },
        {
          "output_type": "display_data",
          "data": {
            "text/plain": [
              "<Figure size 640x480 with 1 Axes>"
            ],
            "image/png": "[encoded data removed]"
          },
          "metadata": {}
        },
        {
          "output_type": "display_data",
          "data": {
            "text/plain": [
              "<Figure size 640x480 with 1 Axes>"
            ],
            "image/png": "[encoded data removed]"
          },
          "metadata": {}
        },
        {
          "output_type": "display_data",
          "data": {
            "text/plain": [
              "<Figure size 640x480 with 1 Axes>"
            ],
            "image/png": "[encoded data removed]"
          },
          "metadata": {}
        },
        {
          "output_type": "display_data",
          "data": {
            "text/plain": [
              "<Figure size 640x480 with 1 Axes>"
            ],
            "image/png": "[encoded data removed]"
          },
          "metadata": {}
        },
        {
          "output_type": "display_data",
          "data": {
            "text/plain": [
              "<Figure size 640x480 with 1 Axes>"
            ],
            "image/png": "[encoded data removed]"
          },
          "metadata": {}
        },
        {
          "output_type": "display_data",
          "data": {
            "text/plain": [
              "<Figure size 640x480 with 1 Axes>"
            ],
            "image/png": "[encoded data removed]"
          },
          "metadata": {}
        },
        {
          "output_type": "display_data",
          "data": {
            "text/plain": [
              "<Figure size 640x480 with 1 Axes>"
            ],
            "image/png": "[encoded data removed]"
          },
          "metadata": {}
        },
        {
          "output_type": "display_data",
          "data": {
            "text/plain": [
              "<Figure size 640x480 with 1 Axes>"
            ],
            "image/png": "[encoded data removed]"
          },
          "metadata": {}
        },
        {
          "output_type": "display_data",
          "data": {
            "text/plain": [
              "<Figure size 640x480 with 1 Axes>"
            ],
            "image/png": "[encoded data removed]"
          },
          "metadata": {}
        }
      ]
    },
    {
      "cell_type": "code",
      "source": [],
      "metadata": {
        "id": "1vn3x8TOCbi2"
      },
      "execution_count": 64,
      "outputs": []
    }
  ]
}