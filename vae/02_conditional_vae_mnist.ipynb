{
  "nbformat": 4,
  "nbformat_minor": 0,
  "metadata": {
    "colab": {
      "provenance": [],
      "gpuType": "T4",
      "authorship_tag": "ABX9TyN6T3PtaKFh1SaPm1CpiUJ3",
      "include_colab_link": true
    },
    "kernelspec": {
      "name": "python3",
      "display_name": "Python 3"
    },
    "language_info": {
      "name": "python"
    },
    "widgets": {
      "application/vnd.jupyter.widget-state+json": {
        "45e0585fb2634aa48c2a9a008bb5f46d": {
          "model_module": "@jupyter-widgets/controls",
          "model_name": "HBoxModel",
          "model_module_version": "1.5.0",
          "state": {
            "_dom_classes": [],
            "_model_module": "@jupyter-widgets/controls",
            "_model_module_version": "1.5.0",
            "_model_name": "HBoxModel",
            "_view_count": null,
            "_view_module": "@jupyter-widgets/controls",
            "_view_module_version": "1.5.0",
            "_view_name": "HBoxView",
            "box_style": "",
            "children": [
              "IPY_MODEL_fb3dd5a2b0684122b545acda22f1b563",
              "IPY_MODEL_2c57e8e1f1894238af91bd936cffe132",
              "IPY_MODEL_a267d788951d415ba2425ca66806c36a"
            ],
            "layout": "IPY_MODEL_5ac0793d868e432981ccd1d23613352d"
          }
        },
        "fb3dd5a2b0684122b545acda22f1b563": {
          "model_module": "@jupyter-widgets/controls",
          "model_name": "HTMLModel",
          "model_module_version": "1.5.0",
          "state": {
            "_dom_classes": [],
            "_model_module": "@jupyter-widgets/controls",
            "_model_module_version": "1.5.0",
            "_model_name": "HTMLModel",
            "_view_count": null,
            "_view_module": "@jupyter-widgets/controls",
            "_view_module_version": "1.5.0",
            "_view_name": "HTMLView",
            "description": "",
            "description_tooltip": null,
            "layout": "IPY_MODEL_211c643fab7f4e679842f8c2ece00b62",
            "placeholder": "​",
            "style": "IPY_MODEL_4e9763c435a544a1a769978d9ca9ca4e",
            "value": "100%"
          }
        },
        "2c57e8e1f1894238af91bd936cffe132": {
          "model_module": "@jupyter-widgets/controls",
          "model_name": "FloatProgressModel",
          "model_module_version": "1.5.0",
          "state": {
            "_dom_classes": [],
            "_model_module": "@jupyter-widgets/controls",
            "_model_module_version": "1.5.0",
            "_model_name": "FloatProgressModel",
            "_view_count": null,
            "_view_module": "@jupyter-widgets/controls",
            "_view_module_version": "1.5.0",
            "_view_name": "ProgressView",
            "bar_style": "success",
            "description": "",
            "description_tooltip": null,
            "layout": "IPY_MODEL_4ff34a4d61e54239821be66b1ad19fbd",
            "max": 50,
            "min": 0,
            "orientation": "horizontal",
            "style": "IPY_MODEL_b3989dad8e054a82a2cccee3fad6874f",
            "value": 50
          }
        },
        "a267d788951d415ba2425ca66806c36a": {
          "model_module": "@jupyter-widgets/controls",
          "model_name": "HTMLModel",
          "model_module_version": "1.5.0",
          "state": {
            "_dom_classes": [],
            "_model_module": "@jupyter-widgets/controls",
            "_model_module_version": "1.5.0",
            "_model_name": "HTMLModel",
            "_view_count": null,
            "_view_module": "@jupyter-widgets/controls",
            "_view_module_version": "1.5.0",
            "_view_name": "HTMLView",
            "description": "",
            "description_tooltip": null,
            "layout": "IPY_MODEL_2318dab36bc1491eb7feeaa247f2bd82",
            "placeholder": "​",
            "style": "IPY_MODEL_6470797c2990467db1e6d561baf293ff",
            "value": " 50/50 [05:37&lt;00:00,  6.78s/it]"
          }
        },
        "5ac0793d868e432981ccd1d23613352d": {
          "model_module": "@jupyter-widgets/base",
          "model_name": "LayoutModel",
          "model_module_version": "1.2.0",
          "state": {
            "_model_module": "@jupyter-widgets/base",
            "_model_module_version": "1.2.0",
            "_model_name": "LayoutModel",
            "_view_count": null,
            "_view_module": "@jupyter-widgets/base",
            "_view_module_version": "1.2.0",
            "_view_name": "LayoutView",
            "align_content": null,
            "align_items": null,
            "align_self": null,
            "border": null,
            "bottom": null,
            "display": null,
            "flex": null,
            "flex_flow": null,
            "grid_area": null,
            "grid_auto_columns": null,
            "grid_auto_flow": null,
            "grid_auto_rows": null,
            "grid_column": null,
            "grid_gap": null,
            "grid_row": null,
            "grid_template_areas": null,
            "grid_template_columns": null,
            "grid_template_rows": null,
            "height": null,
            "justify_content": null,
            "justify_items": null,
            "left": null,
            "margin": null,
            "max_height": null,
            "max_width": null,
            "min_height": null,
            "min_width": null,
            "object_fit": null,
            "object_position": null,
            "order": null,
            "overflow": null,
            "overflow_x": null,
            "overflow_y": null,
            "padding": null,
            "right": null,
            "top": null,
            "visibility": null,
            "width": null
          }
        },
        "211c643fab7f4e679842f8c2ece00b62": {
          "model_module": "@jupyter-widgets/base",
          "model_name": "LayoutModel",
          "model_module_version": "1.2.0",
          "state": {
            "_model_module": "@jupyter-widgets/base",
            "_model_module_version": "1.2.0",
            "_model_name": "LayoutModel",
            "_view_count": null,
            "_view_module": "@jupyter-widgets/base",
            "_view_module_version": "1.2.0",
            "_view_name": "LayoutView",
            "align_content": null,
            "align_items": null,
            "align_self": null,
            "border": null,
            "bottom": null,
            "display": null,
            "flex": null,
            "flex_flow": null,
            "grid_area": null,
            "grid_auto_columns": null,
            "grid_auto_flow": null,
            "grid_auto_rows": null,
            "grid_column": null,
            "grid_gap": null,
            "grid_row": null,
            "grid_template_areas": null,
            "grid_template_columns": null,
            "grid_template_rows": null,
            "height": null,
            "justify_content": null,
            "justify_items": null,
            "left": null,
            "margin": null,
            "max_height": null,
            "max_width": null,
            "min_height": null,
            "min_width": null,
            "object_fit": null,
            "object_position": null,
            "order": null,
            "overflow": null,
            "overflow_x": null,
            "overflow_y": null,
            "padding": null,
            "right": null,
            "top": null,
            "visibility": null,
            "width": null
          }
        },
        "4e9763c435a544a1a769978d9ca9ca4e": {
          "model_module": "@jupyter-widgets/controls",
          "model_name": "DescriptionStyleModel",
          "model_module_version": "1.5.0",
          "state": {
            "_model_module": "@jupyter-widgets/controls",
            "_model_module_version": "1.5.0",
            "_model_name": "DescriptionStyleModel",
            "_view_count": null,
            "_view_module": "@jupyter-widgets/base",
            "_view_module_version": "1.2.0",
            "_view_name": "StyleView",
            "description_width": ""
          }
        },
        "4ff34a4d61e54239821be66b1ad19fbd": {
          "model_module": "@jupyter-widgets/base",
          "model_name": "LayoutModel",
          "model_module_version": "1.2.0",
          "state": {
            "_model_module": "@jupyter-widgets/base",
            "_model_module_version": "1.2.0",
            "_model_name": "LayoutModel",
            "_view_count": null,
            "_view_module": "@jupyter-widgets/base",
            "_view_module_version": "1.2.0",
            "_view_name": "LayoutView",
            "align_content": null,
            "align_items": null,
            "align_self": null,
            "border": null,
            "bottom": null,
            "display": null,
            "flex": null,
            "flex_flow": null,
            "grid_area": null,
            "grid_auto_columns": null,
            "grid_auto_flow": null,
            "grid_auto_rows": null,
            "grid_column": null,
            "grid_gap": null,
            "grid_row": null,
            "grid_template_areas": null,
            "grid_template_columns": null,
            "grid_template_rows": null,
            "height": null,
            "justify_content": null,
            "justify_items": null,
            "left": null,
            "margin": null,
            "max_height": null,
            "max_width": null,
            "min_height": null,
            "min_width": null,
            "object_fit": null,
            "object_position": null,
            "order": null,
            "overflow": null,
            "overflow_x": null,
            "overflow_y": null,
            "padding": null,
            "right": null,
            "top": null,
            "visibility": null,
            "width": null
          }
        },
        "b3989dad8e054a82a2cccee3fad6874f": {
          "model_module": "@jupyter-widgets/controls",
          "model_name": "ProgressStyleModel",
          "model_module_version": "1.5.0",
          "state": {
            "_model_module": "@jupyter-widgets/controls",
            "_model_module_version": "1.5.0",
            "_model_name": "ProgressStyleModel",
            "_view_count": null,
            "_view_module": "@jupyter-widgets/base",
            "_view_module_version": "1.2.0",
            "_view_name": "StyleView",
            "bar_color": null,
            "description_width": ""
          }
        },
        "2318dab36bc1491eb7feeaa247f2bd82": {
          "model_module": "@jupyter-widgets/base",
          "model_name": "LayoutModel",
          "model_module_version": "1.2.0",
          "state": {
            "_model_module": "@jupyter-widgets/base",
            "_model_module_version": "1.2.0",
            "_model_name": "LayoutModel",
            "_view_count": null,
            "_view_module": "@jupyter-widgets/base",
            "_view_module_version": "1.2.0",
            "_view_name": "LayoutView",
            "align_content": null,
            "align_items": null,
            "align_self": null,
            "border": null,
            "bottom": null,
            "display": null,
            "flex": null,
            "flex_flow": null,
            "grid_area": null,
            "grid_auto_columns": null,
            "grid_auto_flow": null,
            "grid_auto_rows": null,
            "grid_column": null,
            "grid_gap": null,
            "grid_row": null,
            "grid_template_areas": null,
            "grid_template_columns": null,
            "grid_template_rows": null,
            "height": null,
            "justify_content": null,
            "justify_items": null,
            "left": null,
            "margin": null,
            "max_height": null,
            "max_width": null,
            "min_height": null,
            "min_width": null,
            "object_fit": null,
            "object_position": null,
            "order": null,
            "overflow": null,
            "overflow_x": null,
            "overflow_y": null,
            "padding": null,
            "right": null,
            "top": null,
            "visibility": null,
            "width": null
          }
        },
        "6470797c2990467db1e6d561baf293ff": {
          "model_module": "@jupyter-widgets/controls",
          "model_name": "DescriptionStyleModel",
          "model_module_version": "1.5.0",
          "state": {
            "_model_module": "@jupyter-widgets/controls",
            "_model_module_version": "1.5.0",
            "_model_name": "DescriptionStyleModel",
            "_view_count": null,
            "_view_module": "@jupyter-widgets/base",
            "_view_module_version": "1.2.0",
            "_view_name": "StyleView",
            "description_width": ""
          }
        }
      }
    },
    "accelerator": "GPU"
  },
  "cells": [
    {
      "cell_type": "markdown",
      "metadata": {
        "id": "view-in-github",
        "colab_type": "text"
      },
      "source": [
        "<a href=\"https://colab.research.google.com/github/Yyzhang2000/learning-generative-models/blob/main/vae/02_conditional_vae_mnist.ipynb\" target=\"_parent\"><img src=\"https://colab.research.google.com/assets/colab-badge.svg\" alt=\"Open In Colab\"/></a>"
      ]
    },
    {
      "cell_type": "code",
      "execution_count": 15,
      "metadata": {
        "id": "IPWfhjw8n8e0"
      },
      "outputs": [],
      "source": [
        "import torch\n",
        "import torch.nn as nn\n",
        "import torch.nn.functional as F\n",
        "from torch.optim import Adam\n",
        "\n",
        "import numpy as np\n",
        "import matplotlib.pyplot as plt\n",
        "from torchvision.datasets import MNIST\n",
        "from torch.utils.data import DataLoader\n",
        "import torchvision.transforms as transforms\n",
        "from mpl_toolkits.axes_grid1 import ImageGrid\n",
        "from torchvision.utils import save_image, make_grid\n",
        "\n",
        "from tqdm.autonotebook import trange\n",
        "import random"
      ]
    },
    {
      "cell_type": "code",
      "source": [
        "DATA_PATH = \"./data\"\n",
        "batch_size = 128\n",
        "device = torch.device(\"cuda\" if torch.cuda.is_available() else \"cpu\")"
      ],
      "metadata": {
        "id": "NGMBEkPJolGp"
      },
      "execution_count": 2,
      "outputs": []
    },
    {
      "cell_type": "code",
      "source": [
        "transform = transforms.Compose([transforms.ToTensor()])\n",
        "train_dataset = MNIST(DATA_PATH, transform=transform, download=True)\n",
        "test_dataset  = MNIST(DATA_PATH, transform=transform, download=True)\n",
        "\n",
        "train_loader = DataLoader(dataset=train_dataset, batch_size=batch_size, shuffle=True)\n",
        "test_loader = DataLoader(dataset=test_dataset, batch_size=batch_size, shuffle=False)"
      ],
      "metadata": {
        "colab": {
          "base_uri": "https://localhost:8080/"
        },
        "id": "rsHFvAwdohYf",
        "outputId": "57ad8e9f-bea4-42d0-8393-f1c588ca222b"
      },
      "execution_count": 3,
      "outputs": [
        {
          "output_type": "stream",
          "name": "stderr",
          "text": [
            "100%|██████████| 9.91M/9.91M [00:00<00:00, 16.7MB/s]\n",
            "100%|██████████| 28.9k/28.9k [00:00<00:00, 491kB/s]\n",
            "100%|██████████| 1.65M/1.65M [00:00<00:00, 4.54MB/s]\n",
            "100%|██████████| 4.54k/4.54k [00:00<00:00, 13.0MB/s]\n"
          ]
        }
      ]
    },
    {
      "cell_type": "markdown",
      "source": [
        "# Autoencoder Model"
      ],
      "metadata": {
        "id": "OjHq1rO4owJK"
      }
    },
    {
      "cell_type": "code",
      "source": [
        "class Encoder(nn.Module):\n",
        "    def __init__(\n",
        "            self,\n",
        "            in_dim = 28 * 28,\n",
        "            hidden_dim = 512,\n",
        "            latent_dim = 256\n",
        "    ):\n",
        "        super().__init__()\n",
        "\n",
        "        self.ln1 = nn.Linear(in_dim, hidden_dim, bias = False)\n",
        "        self.ln2 = nn.Linear(hidden_dim, hidden_dim, bias = False)\n",
        "\n",
        "        self.mean = nn.Linear(hidden_dim, latent_dim, bias = False)\n",
        "        self.log_var = nn.Linear(hidden_dim, latent_dim)\n",
        "\n",
        "        self.act = nn.LeakyReLU(0.2)\n",
        "\n",
        "    def forward(self, x):\n",
        "        hidden = self.act(self.ln2(self.act(self.ln1(x))))\n",
        "\n",
        "        mean = self.mean(hidden)\n",
        "        log_var = self.log_var(hidden)\n",
        "\n",
        "        return mean, log_var"
      ],
      "metadata": {
        "id": "shsO9ef0ouk6"
      },
      "execution_count": 4,
      "outputs": []
    },
    {
      "cell_type": "code",
      "source": [
        "class Decoder(nn.Module):\n",
        "    def __init__(self, out_dim=28 * 28, hidden_dim=512, latent_dim = 256):\n",
        "        super().__init__()\n",
        "\n",
        "        self.ln1 = nn.Linear(latent_dim, hidden_dim, bias = False)\n",
        "        self.ln2 = nn.Linear(hidden_dim, hidden_dim, bias = False)\n",
        "        self.output = nn.Linear(hidden_dim, out_dim, bias = False)\n",
        "\n",
        "        self.act = nn.LeakyReLU(0.2)\n",
        "\n",
        "    def forward(self, z):\n",
        "        hidden = self.act(self.ln2(self.act(self.ln1(z))))\n",
        "\n",
        "        x_hat = F.sigmoid(self.output(hidden))\n",
        "\n",
        "        return x_hat"
      ],
      "metadata": {
        "id": "0nZcxVDCpUQq"
      },
      "execution_count": 5,
      "outputs": []
    },
    {
      "cell_type": "code",
      "source": [
        "class VAE(nn.Module):\n",
        "    def __init__(self,num_classes = 10 ,latent_dim = 256):\n",
        "        super().__init__()\n",
        "\n",
        "        self.encoder = Encoder()\n",
        "        self.decoder = Decoder()\n",
        "\n",
        "        self.label_embedding = nn.Embedding(num_classes, latent_dim)\n",
        "        self.num_classes = num_classes\n",
        "\n",
        "\n",
        "    def encode(self, x):\n",
        "        mean, log_var  = self.encoder(x)\n",
        "        return mean, log_var\n",
        "\n",
        "    def decode(self, z, y):\n",
        "        z += self.label_embedding(y)\n",
        "        return self.decoder(z)\n",
        "\n",
        "    def reparameterization(self, mean, var):\n",
        "        eps = torch.rand_like(var).to(mean.device)\n",
        "        z = mean + var * eps\n",
        "        return z\n",
        "\n",
        "\n",
        "    def forward(self, x, y):\n",
        "        mean, log_var = self.encode(x)\n",
        "        z = self.reparameterization(mean, torch.exp(0.5 * log_var))\n",
        "\n",
        "\n",
        "        x_hat = self.decode(z, y)\n",
        "        return x_hat, mean, log_var\n",
        "\n",
        "    def generate(self, y=None):\n",
        "        if not y:\n",
        "            y = random.randint(0, self.num_classes)\n",
        "            y = torch.tensor([y]).unsqueeze(0)\n",
        "\n",
        "        self.eval()\n",
        "        with torch.no_grad():\n",
        "            z = torch.randn(1, 1, 256)\n",
        "            sample = self.decode(z, y)\n",
        "\n",
        "        return sample\n"
      ],
      "metadata": {
        "id": "OKxHtdY4pxag"
      },
      "execution_count": 46,
      "outputs": []
    },
    {
      "cell_type": "code",
      "source": [
        "model = VAE().to(device)\n",
        "optimizer = Adam(model.parameters(), lr=1e-3)"
      ],
      "metadata": {
        "id": "uFIFFV8DquOk"
      },
      "execution_count": 47,
      "outputs": []
    },
    {
      "cell_type": "code",
      "source": [
        "def loss_function(x, x_hat, mean, log_var):\n",
        "    construction_loss = F.binary_cross_entropy(x_hat, x, reduction='sum')\n",
        "    KL_Div = -0.5 * torch.sum(1 + log_var - mean.pow(2) - log_var.exp())\n",
        "    return construction_loss + KL_Div"
      ],
      "metadata": {
        "id": "A8C2r0lyqvZj"
      },
      "execution_count": 48,
      "outputs": []
    },
    {
      "cell_type": "code",
      "source": [
        "model.train()\n",
        "losses = []\n",
        "for epoch in trange(50):\n",
        "    for x, y in train_loader:\n",
        "        x = x.flatten(1).to(device)\n",
        "        y = y.to(device)\n",
        "\n",
        "        x_hat, mean, log_var = model(x, y)\n",
        "        loss = loss_function(x, x_hat, mean, log_var)\n",
        "\n",
        "        losses.append(loss.item())\n",
        "\n",
        "        optimizer.zero_grad()\n",
        "        loss.backward()\n",
        "        optimizer.step()"
      ],
      "metadata": {
        "colab": {
          "base_uri": "https://localhost:8080/",
          "height": 49,
          "referenced_widgets": [
            "45e0585fb2634aa48c2a9a008bb5f46d",
            "fb3dd5a2b0684122b545acda22f1b563",
            "2c57e8e1f1894238af91bd936cffe132",
            "a267d788951d415ba2425ca66806c36a",
            "5ac0793d868e432981ccd1d23613352d",
            "211c643fab7f4e679842f8c2ece00b62",
            "4e9763c435a544a1a769978d9ca9ca4e",
            "4ff34a4d61e54239821be66b1ad19fbd",
            "b3989dad8e054a82a2cccee3fad6874f",
            "2318dab36bc1491eb7feeaa247f2bd82",
            "6470797c2990467db1e6d561baf293ff"
          ]
        },
        "id": "H7p70Lwbq9yf",
        "outputId": "fa6123f7-fbac-43b1-ab19-121146409d3c"
      },
      "execution_count": 49,
      "outputs": [
        {
          "output_type": "display_data",
          "data": {
            "text/plain": [
              "  0%|          | 0/50 [00:00<?, ?it/s]"
            ],
            "application/vnd.jupyter.widget-view+json": {
              "version_major": 2,
              "version_minor": 0,
              "model_id": "45e0585fb2634aa48c2a9a008bb5f46d"
            }
          },
          "metadata": {}
        }
      ]
    },
    {
      "cell_type": "code",
      "source": [
        "plt.plot(losses);"
      ],
      "metadata": {
        "colab": {
          "base_uri": "https://localhost:8080/",
          "height": 430
        },
        "id": "99NfXW6KwV0e",
        "outputId": "c77fe48c-1e25-4364-fc00-9451f8bd3dba"
      },
      "execution_count": 50,
      "outputs": [
        {
          "output_type": "display_data",
          "data": {
            "text/plain": [
              "<Figure size 640x480 with 1 Axes>"
            ],
            "image/png": "[encoded data removed]"
          },
          "metadata": {}
        }
      ]
    },
    {
      "cell_type": "markdown",
      "source": [
        "# Sampling from the Generative Models"
      ],
      "metadata": {
        "id": "6--tEL6PvQBY"
      }
    },
    {
      "cell_type": "code",
      "source": [
        "model.to('cpu')\n",
        "for i in range(10):\n",
        "    sample = model.generate(y = torch.tensor([i]).unsqueeze(0))\n",
        "    sample = sample.reshape(28, 28).squeeze(0).detach().cpu().numpy()\n",
        "\n",
        "    f, axarr = plt.subplots(1)\n",
        "    axarr.imshow(sample)"
      ],
      "metadata": {
        "id": "40xn-L4c0FVp",
        "colab": {
          "base_uri": "https://localhost:8080/",
          "height": 1000
        },
        "outputId": "92057aec-be0c-42f9-855b-1250cac83b6c"
      },
      "execution_count": 53,
      "outputs": [
        {
          "output_type": "display_data",
          "data": {
            "text/plain": [
              "<Figure size 640x480 with 1 Axes>"
            ],
            "image/png": "[encoded data removed]"
          },
          "metadata": {}
        },
        {
          "output_type": "display_data",
          "data": {
            "text/plain": [
              "<Figure size 640x480 with 1 Axes>"
            ],
            "image/png": "[encoded data removed]"
          },
          "metadata": {}
        },
        {
          "output_type": "display_data",
          "data": {
            "text/plain": [
              "<Figure size 640x480 with 1 Axes>"
            ],
            "image/png": "[encoded data removed]"
          },
          "metadata": {}
        },
        {
          "output_type": "display_data",
          "data": {
            "text/plain": [
              "<Figure size 640x480 with 1 Axes>"
            ],
            "image/png": "[encoded data removed]"
          },
          "metadata": {}
        },
        {
          "output_type": "display_data",
          "data": {
            "text/plain": [
              "<Figure size 640x480 with 1 Axes>"
            ],
            "image/png": "[encoded data removed]"
          },
          "metadata": {}
        },
        {
          "output_type": "display_data",
          "data": {
            "text/plain": [
              "<Figure size 640x480 with 1 Axes>"
            ],
            "image/png": "[encoded data removed]"
          },
          "metadata": {}
        },
        {
          "output_type": "display_data",
          "data": {
            "text/plain": [
              "<Figure size 640x480 with 1 Axes>"
            ],
            "image/png": "[encoded data removed]"
          },
          "metadata": {}
        },
        {
          "output_type": "display_data",
          "data": {
            "text/plain": [
              "<Figure size 640x480 with 1 Axes>"
            ],
            "image/png": "[encoded data removed]"
          },
          "metadata": {}
        },
        {
          "output_type": "display_data",
          "data": {
            "text/plain": [
              "<Figure size 640x480 with 1 Axes>"
            ],
            "image/png": "[encoded data removed]"
          },
          "metadata": {}
        },
        {
          "output_type": "display_data",
          "data": {
            "text/plain": [
              "<Figure size 640x480 with 1 Axes>"
            ],
            "image/png": "[encoded data removed]"
          },
          "metadata": {}
        }
      ]
    },
    {
      "cell_type": "code",
      "source": [],
      "metadata": {
        "id": "1vn3x8TOCbi2"
      },
      "execution_count": null,
      "outputs": []
    }
  ]
}